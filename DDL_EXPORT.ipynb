{
 "metadata": {
  "kernelspec": {
   "display_name": "Streamlit Notebook",
   "name": "streamlit"
  },
  "lastEditStatus": {
   "notebookId": "oqoz2l7c23bclgmbmr24",
   "authorId": "436807456974",
   "authorName": "SMORRIS_SFC",
   "authorEmail": "sean.morris@snowflake.com",
   "sessionId": "e4be7be7-7ad2-4ae0-a7e4-f983a0fafdd5",
   "lastEditTime": 1761053548244
  }
 },
 "nbformat_minor": 5,
 "nbformat": 4,
 "cells": [
  {
   "cell_type": "code",
   "id": "3775908f-ca36-4846-8f38-5adca39217f2",
   "metadata": {
    "language": "python",
    "name": "SET_CONTEXT"
   },
   "source": "# Import python packages\nimport streamlit as st\nimport pandas as pd\n\n# We can also use Snowpark for our analyses!\nfrom snowflake.snowpark.context import get_active_session\nsession = get_active_session()",
   "execution_count": null,
   "outputs": []
  },
  {
   "cell_type": "code",
   "id": "fe97e0af-7563-4e68-a76e-44271792731b",
   "metadata": {
    "language": "python",
    "name": "SELECT_DATABASE"
   },
   "outputs": [],
   "source": "database_name = ''",
   "execution_count": null
  },
  {
   "cell_type": "code",
   "id": "a472e61c-26a9-4c99-954e-4f1f5674857f",
   "metadata": {
    "language": "python",
    "name": "CREATE_TABLE"
   },
   "outputs": [],
   "source": "session.sql(f\"\"\"\n    CREATE OR REPLACE TABLE {database_name}.PUBLIC.DDL_EXPORT(\n        OBJECT_NAME STRING,\n        DDL STRING\n    );\n\"\"\").collect()",
   "execution_count": null
  },
  {
   "cell_type": "code",
   "id": "9d7d44a3-08d6-4629-a191-aa52d18a0aee",
   "metadata": {
    "language": "python",
    "name": "SELECT_TABLES"
   },
   "outputs": [],
   "source": "table_df = session.sql(f\"\"\"\n    SELECT TABLE_CATALOG||'.'||TABLE_SCHEMA||'.'||TABLE_NAME AS OBJECT_NAME\n    FROM {database_name}.INFORMATION_SCHEMA.TABLES\n    WHERE TABLE_SCHEMA NOT IN ('INFORMATION_SCHEMA','PUBLIC','SNOWFLAKE_TRACKER');\n\"\"\").to_pandas()\n\nprint(table_df['OBJECT_NAME'])",
   "execution_count": null
  },
  {
   "cell_type": "code",
   "id": "1aabecb0-fb03-4c72-9207-f2532a0bf05e",
   "metadata": {
    "language": "python",
    "name": "LOOP_DDL"
   },
   "outputs": [],
   "source": "for table_name in table_df['OBJECT_NAME']:\n    try:\n        ddl_result = session.sql(f\"\"\"\n            SELECT GET_DDL('TABLE', '{table_name}') AS DDL\n        \"\"\").collect()\n        \n        ddl_text = ddl_result[0]['DDL']\n        \n        # Insert into output table\n        session.sql(f\"\"\"\n            INSERT INTO DDL_EXPORT (OBJECT_NAME, DDL)\n            VALUES ('{table_name}', '{ddl_text}')\n        \"\"\").collect()\n        \n        print(f\"✓ Exported: {table_name}\")\n        \n    except Exception as e:\n        print(f\"✗ Error with {table_name}: {e}\")\n\nprint(f\"\\nDone! Exported {len(table_df)} tables.\")",
   "execution_count": null
  }
 ]
}
